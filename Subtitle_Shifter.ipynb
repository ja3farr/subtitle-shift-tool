{
 "cells": [
  {
   "cell_type": "code",
   "execution_count": 1,
   "id": "b2300f0a-5955-4fc1-a968-594e8e3b15f9",
   "metadata": {},
   "outputs": [],
   "source": [
    "import os\n",
    "import numpy as np"
   ]
  },
  {
   "cell_type": "code",
   "execution_count": 2,
   "id": "8499acfc-f406-49bf-8af7-d96e90c93fd5",
   "metadata": {},
   "outputs": [],
   "source": [
    "def convert(num):\n",
    "    ans = 0\n",
    "    for i in range(len(num)):\n",
    "        ans += int(num[i])*(10**(len(num)-1-i))\n",
    "    return ans\n",
    "\n",
    "def inverse(num, milli=False):\n",
    "    ans = str(num)\n",
    "    if(len(ans)<2):\n",
    "        ans = '0'+ans\n",
    "    if(len(ans)<3 and milli):\n",
    "        return '0'+ans\n",
    "    return ans\n",
    "\n",
    "def convert_into_milli(time):\n",
    "    milli_seconds = 0\n",
    "    li = time.split(':')\n",
    "    for i in range(3):\n",
    "        hm = 0\n",
    "        milli_seconds += (convert(li[i])*(60**(2-i)))\n",
    "    milli_seconds *= 1000\n",
    "    return int(milli_seconds)\n",
    "\n",
    "def convert_back(milli_seconds):\n",
    "    milli = milli_seconds%1000\n",
    "    milli_seconds //= 1000\n",
    "    seconds = milli_seconds%60\n",
    "    milli_seconds //= 60\n",
    "    minutes = milli_seconds%60\n",
    "    milli_seconds //= 60\n",
    "    hours = milli_seconds\n",
    "    ans = f'{inverse(hours)}:{inverse(minutes)}:{inverse(seconds)},{inverse(milli, True)}'\n",
    "    return ans\n",
    "\n",
    "def edit(line, delta):\n",
    "    time = line.split(',')\n",
    "    cur = convert_into_milli(time[0])\n",
    "    #print(len(time[1]))\n",
    "    cur += int((time[1])[0:len(time[1])-1+(len(time[1])==3)])\n",
    "    cur += delta\n",
    "    return convert_back(cur)\n"
   ]
  },
  {
   "cell_type": "code",
   "execution_count": 5,
   "id": "1fb36432-50c9-4e18-aa11-5609d64d34fd",
   "metadata": {},
   "outputs": [
    {
     "name": "stdin",
     "output_type": "stream",
     "text": [
      "file name:  editedGood.Bye.Lenin.2003.1080p.WEB-DL.DD5.1.H.264-BS (Eng).srt\n",
      "delay in millisecond : 300\n",
      "line number 400\n",
      "lower than line 400 \n"
     ]
    }
   ],
   "source": [
    "cur_file = input('file name: ')\n",
    "delta = int(input('delay in millisecond :'))\n",
    "output = 'edited'+cur_file\n",
    "file = open(cur_file)\n",
    "num = int(input('line number'))\n",
    "small = input(f'lower than line {num}')\n",
    "lines = file.readlines()\n",
    "file.close()\n",
    "cnt = 0\n",
    "new_file = open(output, 'w')\n",
    "\n",
    "for i, line in enumerate(lines):\n",
    "    if(i < num and not small) or (i > num and small):\n",
    "        continue\n",
    "        \n",
    "    new_line = line.split(' --> ')\n",
    "    new_line1 = []\n",
    "    if (len(new_line)>1):\n",
    "        new_line1 = []\n",
    "        for i in new_line:\n",
    "            new_line1.append(edit(i, delta))\n",
    "        ans = ' --> '.join(new_line1)\n",
    "        new_file.write(ans+'\\n')\n",
    "    else:\n",
    "        new_file.write(new_line[0])\n",
    "\n",
    "new_file.close()"
   ]
  },
  {
   "cell_type": "code",
   "execution_count": null,
   "id": "6be40c9f-fcf9-4371-a490-a34997d2a789",
   "metadata": {},
   "outputs": [],
   "source": []
  },
  {
   "cell_type": "code",
   "execution_count": null,
   "id": "1c2dfa75-ad5a-4e14-ba67-e1bb87eb7592",
   "metadata": {},
   "outputs": [],
   "source": []
  }
 ],
 "metadata": {
  "kernelspec": {
   "display_name": "Python 3 (ipykernel)",
   "language": "python",
   "name": "python3"
  },
  "language_info": {
   "codemirror_mode": {
    "name": "ipython",
    "version": 3
   },
   "file_extension": ".py",
   "mimetype": "text/x-python",
   "name": "python",
   "nbconvert_exporter": "python",
   "pygments_lexer": "ipython3",
   "version": "3.12.0"
  }
 },
 "nbformat": 4,
 "nbformat_minor": 5
}
